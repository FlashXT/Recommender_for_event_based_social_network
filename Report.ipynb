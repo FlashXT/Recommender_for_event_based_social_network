{
 "cells": [
  {
   "cell_type": "markdown",
   "metadata": {
    "collapsed": true
   },
   "source": [
    "# Report\n",
    "# Project Name - WhatTheRec"
   ]
  },
  {
   "cell_type": "markdown",
   "metadata": {},
   "source": [
    "## Introduction and Problem Statement\n",
    "In the present scenario, a plethora of events are being held daily at different places and different times. Hence, it is difficult for a user to keep track of all the events and choose between various events which to attend. The problem worsens because the users do not know which events would be interesting and relevant to them. Hence, it is important that an event sharing social network use recommenders to suggest relevant and interesting events to its users which help them choose between various events. While recommending events, another problem whiich arises is that of unseen data. We do not know for sure which users will attend what events, especially in the case of new users. This is often called the cold start problem. There are many Event Based Social Network (EBSN) websites like meetup.com, eventbrite.com etc., which could deploy this algorithm in order to successfully suggest interesting and relevant events to its users.\n"
   ]
  },
  {
   "cell_type": "markdown",
   "metadata": {},
   "source": [
    "## Related Work\n",
    "There has been some work done in hybrid approaches in event recommendation by Minkov et al. [1]. This paper demonstrates collaborative filtering on a dataset of academic events. Our implementation of the recommender system follows [2], which also utilizes other signals such as a group of users, location, and temporal preferences. Khrouf and Troncy [3] for recommending music related events, utilized category information about different artists from a well-known source. But this approach fails when we do not have this information about every event, as events can be across different domains. Our implementation takes into account RSVP and group information and other contextual data. Recent works [4] have shown that pure matrix factorization (based only on user-event interactions) performs poorly on EBSN data in comparison to other methods due to a high level of the sparsity of these datasets. As per experiments carried out, state-of-the-art matrix factorization algorithms did not perform better than simple collaborative filtering algorithms such as user-based k-NN. Thus the focus is on considering the explicit features than the latent ones."
   ]
  },
  {
   "cell_type": "markdown",
   "metadata": {},
   "source": [
    "## Approach & Methods\n",
    "\n",
    "Data Acquisition - Initially we fetched data from meetup.com using their public apis. As we started developing, we realized the data was too less as this data is super sparse in nature. So, when we again starting getting data, they changed their apis and a lot of them were broken. So, we decided to contact the the researchers and got the raw data from them. We cleaned/parsed the data and used that for our project. We used data from Jan 1, 2010 - Jan 2014. \n",
    "The data contains the following information:\n",
    "1. Events: event id, description of event, event group, users who rsvped to this event.\n",
    "2. Members: member id, lat long\n",
    "3. Groups: events organized by the group, members involved in the group\n",
    "\n",
    "We, then, divided the data into timestamps of 6 months. For example, one timestamp would be July 1, 2010. Then, the first 6 months were used for training and the last 6 months for testing. We extracted the following features to recommend events: time, location, description and group frequency of event. \n",
    "\n",
    "a. Content-based - We formed a model of a user using the description of the past events he attended. Then found similarity of potential events with the user model. \n",
    "\n",
    "b. Location-based - We fitted a gausian distribution to the location of the past events of a user. Then found the probability of new event according to the curve. \n",
    "\n",
    "c. Group-Frequency - The intuition here is that the likelihood of the target user attending an event depends on the number of events this user attended in the group that event belongs to. \n",
    "\n",
    "d. Time-Aware - Another important factor that affect users' decision on attending an event is when the event occurs. We capture this intuition by assuming that users that attended events in the past at certain days of the week and at certain hours of the day will likely attend events with a similar temporal profile in the future.\n",
    "\n",
    "Now, that we have built a model of the data, we then computed similarity scores for each member with the events that they had rsvp'd. Events in the first half were used to train the model and the events in the second half were used to test it. Note that we knew the events which the members had rsvp'd for the both the halves. So, the rsvp's for the second half were used to evaluate the model. Here's our index.py file, which is what you need run. "
   ]
  },
  {
   "cell_type": "markdown",
   "metadata": {},
   "source": [
    "First you need to run the crawler in order to convert files from csv to json."
   ]
  },
  {
   "cell_type": "code",
   "execution_count": null,
   "metadata": {
    "collapsed": false
   },
   "outputs": [],
   "source": [
    "import os\n",
    "import sys\n",
    "\n",
    "os.chdir(\"crawler/\")\n",
    "%run local_crawler.py\n",
    "os.chdir(\"../\")\n"
   ]
  },
  {
   "cell_type": "markdown",
   "metadata": {},
   "source": [
    "Now, you run our recommender index file. Type the name of cities you want to run the recommender on: \n",
    "Note: We have data from only Chicago, San jose and Phoenix"
   ]
  },
  {
   "cell_type": "code",
   "execution_count": null,
   "metadata": {
    "collapsed": true
   },
   "outputs": [],
   "source": [
    "city='LCHICAGO' # or 'LSAN JOSE', or 'LPHOENIX'"
   ]
  },
  {
   "cell_type": "code",
   "execution_count": null,
   "metadata": {
    "collapsed": false
   },
   "outputs": [],
   "source": [
    "os.chdir(\"src/\")\n",
    "%run index.py --city \"LCHICAGO\" --algo rf --members 50"
   ]
  },
  {
   "cell_type": "markdown",
   "metadata": {},
   "source": [
    "## Evaluation\n",
    "\n",
    "We divided an year's data in 2 slots. So we build the model of the user from the rsvpd events in the first slot, and then for each of the event in the next slot, do the recommendation. We do a k fold setup to evaluate recommendations. For 80% of the users, we train the classifier and then calculate precision, recall and f-score for the remaining 20% of the users.\n",
    "\n",
    "For a new user(who didn't attend any event in the fist slot), we recommend the event which occurs closest to user's location."
   ]
  },
  {
   "cell_type": "markdown",
   "metadata": {},
   "source": [
    "## Conclusion and Next Steps\n",
    "In sum, we propose a recommender system for event based social networks. We resolved the cold start problem associated with the event recommendations by using content based features: location, time, description and group frequency. We got #### results. \n",
    "\n",
    "Further, the next steps would be to use data from other major sites like eventbrite.com, facebook.com and evaluate our recommendation on it. Another work could be to use more features for the system, like: ####"
   ]
  },
  {
   "cell_type": "markdown",
   "metadata": {},
   "source": [
    "## References\n",
    "[1] E. Minkov, B. Charrow, J. Ledlie, S. Teller, and T. Jaakkola, Collaborative future event recommendation, In Proc. of CIKM, pages 819-828, 2010.\n",
    "\n",
    "[2] Augusto Q. Macedo, Leandro B. Marinho and Rodrygo L. T. Santos, Context-Aware Event Recommendation in Event-based Social Networks, In Proc. of Recsys, pages 123-130, 2015.\n",
    "\n",
    "[3] H. Khrouf and R. Troncy. Hybrid event recommendation using linked data and user diversity, In Proc. of RecSys, pages 185-192, 2013.\n",
    "\n",
    "[4] A. Q. Macedo and L. B. Marinho, Event recommendation in event-based social networks, In Proc. of Int. Work. on Social Personalization, 2014."
   ]
  },
  {
   "cell_type": "code",
   "execution_count": null,
   "metadata": {
    "collapsed": true
   },
   "outputs": [],
   "source": []
  }
 ],
 "metadata": {
  "anaconda-cloud": {},
  "kernelspec": {
   "display_name": "Python [default]",
   "language": "python",
   "name": "python2"
  },
  "language_info": {
   "codemirror_mode": {
    "name": "ipython",
    "version": 2
   },
   "file_extension": ".py",
   "mimetype": "text/x-python",
   "name": "python",
   "nbconvert_exporter": "python",
   "pygments_lexer": "ipython2",
   "version": "2.7.13"
  }
 },
 "nbformat": 4,
 "nbformat_minor": 2
}
